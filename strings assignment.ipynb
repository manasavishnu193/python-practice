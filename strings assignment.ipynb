{
 "cells": [
  {
   "cell_type": "markdown",
   "id": "c90a8dbb",
   "metadata": {},
   "source": [
    "## Write a python program to convert a string to lower case"
   ]
  },
  {
   "cell_type": "code",
   "execution_count": 1,
   "id": "8da2d120",
   "metadata": {},
   "outputs": [
    {
     "data": {
      "text/plain": [
       "'welcome to innomatics research lab for studying data science'"
      ]
     },
     "execution_count": 1,
     "metadata": {},
     "output_type": "execute_result"
    }
   ],
   "source": [
    "l=\"Welcome to Innomatics Research lab for studying Data Science\"\n",
    "l.lower()"
   ]
  },
  {
   "cell_type": "markdown",
   "id": "0cd79a3d",
   "metadata": {},
   "source": [
    "## Write a python program to convert only odd indexed characters to lower case"
   ]
  },
  {
   "cell_type": "code",
   "execution_count": 2,
   "id": "e8fa69e5",
   "metadata": {},
   "outputs": [
    {
     "name": "stdout",
     "output_type": "stream",
     "text": [
      " PyThOn\n"
     ]
    }
   ],
   "source": [
    "s= \"PYTHON\"\n",
    "res=\" \"\n",
    "for i in range(len(s)):\n",
    "    if not i % 2:\n",
    "        res = res + s[i].upper()\n",
    "    else:\n",
    "        res = res + s[i].lower()\n",
    " \n",
    "# printing result\n",
    "print(str(res))\n"
   ]
  },
  {
   "cell_type": "markdown",
   "id": "49b12d1a",
   "metadata": {},
   "source": [
    "## Write a python program to convert only even indexed characters to upper case"
   ]
  },
  {
   "cell_type": "code",
   "execution_count": 4,
   "id": "3d3f4edd",
   "metadata": {},
   "outputs": [
    {
     "name": "stdout",
     "output_type": "stream",
     "text": [
      " pYtHoN\n"
     ]
    }
   ],
   "source": [
    "s=\"PYTHON\"\n",
    "res=\" \"\n",
    "for i in range(len(s)):\n",
    "    if i % 2:\n",
    "        res = res + s[i].upper()\n",
    "    else:\n",
    "        res = res + s[i].lower()\n",
    " \n",
    "# printing result\n",
    "print(str(res))"
   ]
  },
  {
   "cell_type": "markdown",
   "id": "2848fcec",
   "metadata": {},
   "source": [
    "## Write a python program to convert only odd indexed characters to upper case"
   ]
  },
  {
   "cell_type": "code",
   "execution_count": 6,
   "id": "8c89f28a",
   "metadata": {},
   "outputs": [
    {
     "name": "stdout",
     "output_type": "stream",
     "text": [
      "The changed case string is :  pYtHoN\n"
     ]
    }
   ],
   "source": [
    "s = \"python\"\n",
    "res=\" \"\n",
    "for i in range(len(s)):\n",
    "    if not i % 2:\n",
    "        res = res + s[i].lower()                           \n",
    "    else:\n",
    "        res = res + s[i].upper()\n",
    "                                                         \n",
    "# printing result\n",
    "print(\"The changed case string is : \" + str(res))"
   ]
  },
  {
   "cell_type": "markdown",
   "id": "06f98777",
   "metadata": {},
   "source": [
    "## Write a python program to convert only even indexed characters to lower case"
   ]
  },
  {
   "cell_type": "code",
   "execution_count": 7,
   "id": "919e1886",
   "metadata": {},
   "outputs": [
    {
     "name": "stdout",
     "output_type": "stream",
     "text": [
      "The changed case string is :  PyThOn\n"
     ]
    }
   ],
   "source": [
    "s = \"python\"\n",
    "res=\" \"\n",
    "for i in range(len(s)):\n",
    "    if  i % 2:\n",
    "        res = res + s[i].lower()                           \n",
    "    else:                                                            \n",
    "        res = res + s[i].upper()\n",
    " \n",
    "# printing result\n",
    "print(\"The changed case string is : \" + str(res))"
   ]
  },
  {
   "cell_type": "markdown",
   "id": "d31aa352",
   "metadata": {},
   "source": [
    "## Write a python program where you have different variable which contains your name, gender, age, phone number, father’s name and mother’s name.And by using this variable create a variable named bio-data where you will use all this variable\n",
    "\n"
   ]
  },
  {
   "cell_type": "code",
   "execution_count": 38,
   "id": "3c3e2d7b",
   "metadata": {},
   "outputs": [
    {
     "name": "stdout",
     "output_type": "stream",
     "text": [
      "My name is Manasa,My age is 24,My gender is Female,My phone no is 8075867321,My fathers name is Srinivasan,My mothers name is Radha,"
     ]
    }
   ],
   "source": [
    "biodata={\"My name is\":\"Manasa\",\n",
    "         \"My age is\":24,\n",
    "         \"My gender is\":\"Female\",\n",
    "         \"My phone no is\":8075867321,\n",
    "         \"My fathers name is\":\"Srinivasan\",\n",
    "         \"My mothers name is\":\"Radha\"\n",
    "               }\n",
    "for  i in biodata:\n",
    "    print(i,biodata[i],end =\",\")\n",
    "    "
   ]
  },
  {
   "cell_type": "markdown",
   "id": "8c927649",
   "metadata": {},
   "source": [
    "## Write a python program to count how many times “@” occurred"
   ]
  },
  {
   "cell_type": "code",
   "execution_count": 8,
   "id": "58a3089b",
   "metadata": {},
   "outputs": [
    {
     "data": {
      "text/plain": [
       "2"
      ]
     },
     "execution_count": 8,
     "metadata": {},
     "output_type": "execute_result"
    }
   ],
   "source": [
    "s=\"S@ndhy@\"\n",
    "s.count('@')"
   ]
  },
  {
   "cell_type": "markdown",
   "id": "c2aa311c",
   "metadata": {},
   "source": [
    "## Write a python program to get only names from the string"
   ]
  },
  {
   "cell_type": "code",
   "execution_count": 31,
   "id": "56be3aa6",
   "metadata": {},
   "outputs": [
    {
     "name": "stdout",
     "output_type": "stream",
     "text": [
      "enter your 1st email address: name1.@gmail.com\n",
      "enter your 2nd email address:name2.@gmail.com\n",
      "enter your 3rd email address: name3.@gmail.com\n",
      "name1.,name2.,name3.\n"
     ]
    }
   ],
   "source": [
    "st=input(\"enter your 1st email address: \")\n",
    "st1=input(\"enter your 2nd email address:\")\n",
    "st2=input(\"enter your 3rd email address: \")\n",
    "a=st.split(\"@\")\n",
    "b=st1.split(\"@\")\n",
    "c=st2.split(\"@\")\n",
    "print(a[0],b[0],c[0],sep=',')\n"
   ]
  },
  {
   "cell_type": "markdown",
   "id": "3e38ec69",
   "metadata": {},
   "source": [
    "## Write a program to remove vowels from the entire alphabets"
   ]
  },
  {
   "cell_type": "code",
   "execution_count": 43,
   "id": "9d33033e",
   "metadata": {},
   "outputs": [
    {
     "name": "stdout",
     "output_type": "stream",
     "text": [
      "bcdfghjklmnpqrstvwxyz\n"
     ]
    }
   ],
   "source": [
    "string =\"abcdefghijklmnopqrstuvwxyz\"\n",
    "vowels = ['a', 'e', 'i', 'o', 'u', 'A', 'E', 'I', 'O', 'U']\n",
    "result = \"\"\n",
    "for i in range(len(string)):\n",
    "    if string[i] not in vowels:\n",
    "        result = result + string[i]\n",
    "print(result)"
   ]
  },
  {
   "cell_type": "markdown",
   "id": "cdbca454",
   "metadata": {},
   "source": [
    "## Find all occurrences of a substring in a given string by ignoring the case"
   ]
  },
  {
   "cell_type": "code",
   "execution_count": 28,
   "id": "b9a473b3",
   "metadata": {},
   "outputs": [
    {
     "name": "stdout",
     "output_type": "stream",
     "text": [
      "The innomatics count is 2\n"
     ]
    }
   ],
   "source": [
    "str1 = \"Welcome to Innomatics.innomatics awesome, isn't it?\"\n",
    "str1=str1.lower()\n",
    "sub_str=\"innomatics\"\n",
    "count=str1.count(sub_str)\n",
    "print(\"The innomatics count is\",count)"
   ]
  }
 ],
 "metadata": {
  "kernelspec": {
   "display_name": "Python 3 (ipykernel)",
   "language": "python",
   "name": "python3"
  },
  "language_info": {
   "codemirror_mode": {
    "name": "ipython",
    "version": 3
   },
   "file_extension": ".py",
   "mimetype": "text/x-python",
   "name": "python",
   "nbconvert_exporter": "python",
   "pygments_lexer": "ipython3",
   "version": "3.9.13"
  }
 },
 "nbformat": 4,
 "nbformat_minor": 5
}
