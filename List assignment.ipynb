{
 "cells": [
  {
   "cell_type": "markdown",
   "id": "3453d42c",
   "metadata": {},
   "source": [
    "## Write a Python program to sum all the items and multiply all the items "
   ]
  },
  {
   "cell_type": "code",
   "execution_count": 5,
   "id": "acbd5c13",
   "metadata": {},
   "outputs": [
    {
     "name": "stdout",
     "output_type": "stream",
     "text": [
      "81\n"
     ]
    },
    {
     "data": {
      "text/plain": [
       "94500"
      ]
     },
     "execution_count": 5,
     "metadata": {},
     "output_type": "execute_result"
    }
   ],
   "source": [
    "lst1=[12,25,35,9]\n",
    "print(sum(lst1))\n",
    "def mul(numbers):\n",
    "    m=1\n",
    "    for i in numbers:\n",
    "        m=m*i\n",
    "    return m\n",
    "mul([12,25,35,9])"
   ]
  },
  {
   "cell_type": "markdown",
   "id": "3910432b",
   "metadata": {},
   "source": [
    "## Write a Python function that takes two lists and returns True if they have at least one common member. "
   ]
  },
  {
   "cell_type": "code",
   "execution_count": 6,
   "id": "d4fb1b95",
   "metadata": {},
   "outputs": [
    {
     "name": "stdout",
     "output_type": "stream",
     "text": [
      "True\n",
      "None\n"
     ]
    }
   ],
   "source": [
    "def com_mem(list1, list2):\n",
    "     result = False\n",
    "     for x in list1:\n",
    "         for y in list2:\n",
    "             if x == y:\n",
    "                 result = True\n",
    "                 return result\n",
    "print(com_mem([1,2,3,4,5], [5,6,7,8,9]))\n",
    "print(com_mem([1,2,3,4,5], [6,7,8,9]))\n"
   ]
  },
  {
   "cell_type": "markdown",
   "id": "f0909962",
   "metadata": {},
   "source": [
    "## Write a Python program to compute the difference between two lists. "
   ]
  },
  {
   "cell_type": "code",
   "execution_count": 10,
   "id": "24b0b233",
   "metadata": {},
   "outputs": [
    {
     "name": "stdout",
     "output_type": "stream",
     "text": [
      "['red', 'white', 'orange']\n",
      "['yellow', 'black']\n"
     ]
    }
   ],
   "source": [
    "color1= [\"red\", \"orange\", \"green\", \"blue\", \"white\"]\n",
    "color2=[\"black\", \"yellow\", \"green\", \"blue\"] \n",
    "color3=list(set(color1) - set(color2))\n",
    "color4=list(set(color2) - set(color1))\n",
    "print(color3)\n",
    "print(color4)"
   ]
  },
  {
   "cell_type": "code",
   "execution_count": null,
   "id": "98edda26",
   "metadata": {},
   "outputs": [],
   "source": []
  }
 ],
 "metadata": {
  "kernelspec": {
   "display_name": "Python 3 (ipykernel)",
   "language": "python",
   "name": "python3"
  },
  "language_info": {
   "codemirror_mode": {
    "name": "ipython",
    "version": 3
   },
   "file_extension": ".py",
   "mimetype": "text/x-python",
   "name": "python",
   "nbconvert_exporter": "python",
   "pygments_lexer": "ipython3",
   "version": "3.9.13"
  }
 },
 "nbformat": 4,
 "nbformat_minor": 5
}
